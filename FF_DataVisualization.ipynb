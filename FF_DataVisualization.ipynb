{
  "nbformat": 4,
  "nbformat_minor": 0,
  "metadata": {
    "colab": {
      "provenance": [],
      "authorship_tag": "ABX9TyOWPrIFtB06nyJiWumyqRu7",
      "include_colab_link": true
    },
    "kernelspec": {
      "name": "python3",
      "display_name": "Python 3"
    },
    "language_info": {
      "name": "python"
    }
  },
  "cells": [
    {
      "cell_type": "markdown",
      "metadata": {
        "id": "view-in-github",
        "colab_type": "text"
      },
      "source": [
        "<a href=\"https://colab.research.google.com/github/TonyToeTap/FantasyFootball/blob/main/FF_DataVisualization.ipynb\" target=\"_parent\"><img src=\"https://colab.research.google.com/assets/colab-badge.svg\" alt=\"Open In Colab\"/></a>"
      ]
    },
    {
      "cell_type": "code",
      "execution_count": 1,
      "metadata": {
        "id": "WRfrfa_-TZsv"
      },
      "outputs": [],
      "source": [
        "import pandas as pd\n",
        "import seaborn as sns\n",
        "from matplotlib import pyplot as plt"
      ]
    },
    {
      "cell_type": "code",
      "source": [
        "df = pd.read_csv('https://raw.githubusercontent.com/fantasydatapros/LearnPythonWithFantasyFootball/master/2022/07-Data%20Visualizations/03-Yearly%20Fantasy%20Stats%20-%202021.csv').iloc[:, 1:]"
      ],
      "metadata": {
        "id": "Or5iMMgKDbHI"
      },
      "execution_count": 2,
      "outputs": []
    },
    {
      "cell_type": "code",
      "source": [
        "df.info()"
      ],
      "metadata": {
        "colab": {
          "base_uri": "https://localhost:8080/"
        },
        "id": "r4aXv4xiD0cg",
        "outputId": "6c2f7eaf-b53e-430b-9db5-ecf8e82ec2c7"
      },
      "execution_count": 3,
      "outputs": [
        {
          "output_type": "stream",
          "name": "stdout",
          "text": [
            "<class 'pandas.core.frame.DataFrame'>\n",
            "RangeIndex: 671 entries, 0 to 670\n",
            "Data columns (total 20 columns):\n",
            " #   Column         Non-Null Count  Dtype  \n",
            "---  ------         --------------  -----  \n",
            " 0   Player         671 non-null    object \n",
            " 1   Tm             671 non-null    object \n",
            " 2   Pos            596 non-null    object \n",
            " 3   Age            671 non-null    int64  \n",
            " 4   G              671 non-null    int64  \n",
            " 5   GS             671 non-null    int64  \n",
            " 6   Tgt            670 non-null    float64\n",
            " 7   Rec            670 non-null    float64\n",
            " 8   PassingYds     670 non-null    float64\n",
            " 9   PassingTD      670 non-null    float64\n",
            " 10  PassingAtt     670 non-null    float64\n",
            " 11  RushingYds     670 non-null    float64\n",
            " 12  RushingTD      670 non-null    float64\n",
            " 13  RushingAtt     670 non-null    float64\n",
            " 14  ReceivingYds   670 non-null    float64\n",
            " 15  ReceivingTD    670 non-null    float64\n",
            " 16  FantasyPoints  581 non-null    float64\n",
            " 17  Int            670 non-null    float64\n",
            " 18  Fumbles        670 non-null    float64\n",
            " 19  FumblesLost    670 non-null    float64\n",
            "dtypes: float64(14), int64(3), object(3)\n",
            "memory usage: 105.0+ KB\n"
          ]
        }
      ]
    },
    {
      "cell_type": "code",
      "source": [
        "pd.set_option('chained_assignment', None) # I don't care about overriding the original df"
      ],
      "metadata": {
        "id": "2CTUvmu3Gtlz"
      },
      "execution_count": 4,
      "outputs": []
    },
    {
      "cell_type": "code",
      "source": [
        "# Accoring to the settings in my league\n",
        "\n",
        "fantasy_scoring_weights = {\n",
        "    'Rec': 0.5, # Half-PPR\n",
        "    'ReceivingYds': 0.1,\n",
        "    'ReceivingTD': 6,\n",
        "    'FumblesLost': -2, #fumbles lost\n",
        "    'RushingYds': 0.1,\n",
        "    'RushingTD': 6,\n",
        "    #'PassingYds': 0.04,\n",
        "    #'PassingTD': 4,\n",
        "    #'Int': -1\n",
        "    }\n",
        "\n",
        "def get_fantasy_points(row):\n",
        "    \n",
        "    g = row['G'] # access the G column\n",
        "    \n",
        "    fantasy_points = sum([row[column]*weight for column, weight in fantasy_scoring_weights.items()])\n",
        "    \n",
        "    return fantasy_points / g\n",
        "\n",
        "rb_df = df[df['Pos'] == 'RB']\n",
        "\n",
        "# create a FantasyPoints/G column\n",
        "rb_df['FantasyPoints/G'] = rb_df.apply(get_fantasy_points, axis=1)"
      ],
      "metadata": {
        "id": "uCMxBfn9rmaz"
      },
      "execution_count": 5,
      "outputs": []
    },
    {
      "cell_type": "code",
      "source": [
        "# seaborn settings\n",
        "sns.set_style('whitegrid')\n",
        "\n",
        "plt.figure(figsize=(10, 10))\n",
        "\n",
        "sns.scatterplot(rb_df['RushingAtt'], rb_df['Tgt']);"
      ],
      "metadata": {
        "colab": {
          "base_uri": "https://localhost:8080/",
          "height": 662
        },
        "id": "nYgXoHuAv9_6",
        "outputId": "d4ab83eb-d020-4b6c-bb32-858b9bd1d218"
      },
      "execution_count": 6,
      "outputs": [
        {
          "output_type": "stream",
          "name": "stderr",
          "text": [
            "/usr/local/lib/python3.8/dist-packages/seaborn/_decorators.py:36: FutureWarning: Pass the following variables as keyword args: x, y. From version 0.12, the only valid positional argument will be `data`, and passing other arguments without an explicit keyword will result in an error or misinterpretation.\n",
            "  warnings.warn(\n"
          ]
        },
        {
          "output_type": "display_data",
          "data": {
            "text/plain": [
              "<Figure size 720x720 with 1 Axes>"
            ],
            "image/png": "[encoded data removed]"
          },
          "metadata": {}
        }
      ]
    },
    {
      "cell_type": "code",
      "source": [],
      "metadata": {
        "id": "JkmbS62lwErO"
      },
      "execution_count": null,
      "outputs": []
    },
    {
      "cell_type": "code",
      "source": [],
      "metadata": {
        "id": "UsWZZ24v3STM"
      },
      "execution_count": null,
      "outputs": []
    },
    {
      "cell_type": "code",
      "source": [],
      "metadata": {
        "id": "tIKDXo3E3SQm"
      },
      "execution_count": null,
      "outputs": []
    },
    {
      "cell_type": "code",
      "source": [],
      "metadata": {
        "id": "B80oYezX3SOF"
      },
      "execution_count": null,
      "outputs": []
    },
    {
      "cell_type": "code",
      "source": [],
      "metadata": {
        "id": "YZYzaI143SLt"
      },
      "execution_count": null,
      "outputs": []
    },
    {
      "cell_type": "code",
      "source": [],
      "metadata": {
        "id": "AsJpPAex3SIl"
      },
      "execution_count": null,
      "outputs": []
    },
    {
      "cell_type": "code",
      "source": [],
      "metadata": {
        "id": "nF1N43NG3SFt"
      },
      "execution_count": null,
      "outputs": []
    },
    {
      "cell_type": "code",
      "source": [],
      "metadata": {
        "id": "j1KoStGs3R_l"
      },
      "execution_count": null,
      "outputs": []
    }
  ]
}